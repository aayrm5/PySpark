{
  "nbformat": 4,
  "nbformat_minor": 0,
  "metadata": {
    "kernelspec": {
      "display_name": "Python 3",
      "language": "python",
      "name": "python3"
    },
    "language_info": {
      "codemirror_mode": {
        "name": "ipython",
        "version": 3
      },
      "file_extension": ".py",
      "mimetype": "text/x-python",
      "name": "python",
      "nbconvert_exporter": "python",
      "pygments_lexer": "ipython3",
      "version": "3.8.3"
    },
    "colab": {
      "name": "Working_with_RDD.ipynb",
      "provenance": [],
      "collapsed_sections": [],
      "include_colab_link": true
    }
  },
  "cells": [
    {
      "cell_type": "markdown",
      "metadata": {
        "id": "view-in-github",
        "colab_type": "text"
      },
      "source": [
        "<a href=\"https://colab.research.google.com/github/aayrm5/PySpark/blob/main/Working_with_RDD.ipynb\" target=\"_parent\"><img src=\"https://colab.research.google.com/assets/colab-badge.svg\" alt=\"Open In Colab\"/></a>"
      ]
    },
    {
      "cell_type": "markdown",
      "metadata": {
        "id": "gjuAVgrxmIo3"
      },
      "source": [
        "# **Working with RDD (Resilient Distributed Dataset)**\n",
        "\n",
        "**`Credits: Amin Karami (PhD, FHEA)`**\n",
        "\n",
        "---\n",
        "\n",
        "**Resilient Distributed Dataset (RDD)**: RDD is the fundamental data structure of Spark. It is fault-tolerant (resilient) and immutable distributed collections of any type of objects.\n",
        "\n",
        "source: https://spark.apache.org/docs/latest/rdd-programming-guide.html\n",
        "\n",
        "source: https://spark.apache.org/docs/latest/api/python/reference/"
      ]
    },
    {
      "cell_type": "code",
      "metadata": {
        "id": "0LWTJaC8mHL5",
        "colab": {
          "base_uri": "https://localhost:8080/"
        },
        "outputId": "00725cbe-a604-4843-f09f-446dca5632c8"
      },
      "source": [
        "########## ONLY in Colab ##########\n",
        "!pip3 install pyspark\n",
        "########## ONLY in Colab ##########"
      ],
      "execution_count": 1,
      "outputs": [
        {
          "output_type": "stream",
          "name": "stdout",
          "text": [
            "Collecting pyspark\n",
            "  Downloading pyspark-3.2.1.tar.gz (281.4 MB)\n",
            "\u001b[K     |████████████████████████████████| 281.4 MB 36 kB/s \n",
            "\u001b[?25hCollecting py4j==0.10.9.3\n",
            "  Downloading py4j-0.10.9.3-py2.py3-none-any.whl (198 kB)\n",
            "\u001b[K     |████████████████████████████████| 198 kB 39.4 MB/s \n",
            "\u001b[?25hBuilding wheels for collected packages: pyspark\n",
            "  Building wheel for pyspark (setup.py) ... \u001b[?25l\u001b[?25hdone\n",
            "  Created wheel for pyspark: filename=pyspark-3.2.1-py2.py3-none-any.whl size=281853642 sha256=0ca4a79e32f5f62e5ba2cf919acede521c51720daae0a9eff26141b17a0a6131\n",
            "  Stored in directory: /root/.cache/pip/wheels/9f/f5/07/7cd8017084dce4e93e84e92efd1e1d5334db05f2e83bcef74f\n",
            "Successfully built pyspark\n",
            "Installing collected packages: py4j, pyspark\n",
            "Successfully installed py4j-0.10.9.3 pyspark-3.2.1\n"
          ]
        }
      ]
    },
    {
      "cell_type": "code",
      "source": [
        "########## ONLY in Ubuntu Machine ##########\n",
        "# Load Spark engine\n",
        "# !pip3 install -q findspark\n",
        "# import findspark\n",
        "# findspark.init()\n",
        "########## ONLY in Ubuntu Machine ##########"
      ],
      "metadata": {
        "id": "K-riUQ6WTHDl"
      },
      "execution_count": 2,
      "outputs": []
    },
    {
      "cell_type": "code",
      "source": [
        "# Linking with Spark\n",
        "from pyspark import SparkContext, SparkConf"
      ],
      "metadata": {
        "id": "e3pTfRiwTMeY"
      },
      "execution_count": 3,
      "outputs": []
    },
    {
      "cell_type": "code",
      "source": [
        "# Initializing Spark\n",
        "conf = SparkConf().setAppName(\"RDD_practice\").setMaster(\"local[*]\")\n",
        "sc = SparkContext(conf=conf)\n",
        "print(sc)"
      ],
      "metadata": {
        "id": "A_ALGTfeTPN-",
        "colab": {
          "base_uri": "https://localhost:8080/"
        },
        "outputId": "233a591b-6b09-4c37-9cb0-614a3eb3f84d"
      },
      "execution_count": 4,
      "outputs": [
        {
          "output_type": "stream",
          "name": "stdout",
          "text": [
            "<SparkContext master=local[*] appName=RDD_practice>\n"
          ]
        }
      ]
    },
    {
      "cell_type": "code",
      "source": [
        "sc.defaultParallelism"
      ],
      "metadata": {
        "colab": {
          "base_uri": "https://localhost:8080/"
        },
        "id": "dX_uNHcVBTYq",
        "outputId": "88af6eb1-9af4-4f54-f724-fef54119ebe3"
      },
      "execution_count": 5,
      "outputs": [
        {
          "output_type": "execute_result",
          "data": {
            "text/plain": [
              "2"
            ]
          },
          "metadata": {},
          "execution_count": 5
        }
      ]
    },
    {
      "cell_type": "markdown",
      "source": [
        "# **Part 1: Create RDDs and Basic Operations**\n",
        "# **There are two ways to create RDDs:**\n",
        "\n",
        "1.   Parallelizing an existing collection in your driver program\n",
        "2.   Referencing a dataset in an external storage system, such as a shared filesystem, HDFS, HBase, or any data source offering a Hadoop InputFormat."
      ],
      "metadata": {
        "id": "quQ_GBpgWLRK"
      }
    },
    {
      "cell_type": "code",
      "source": [
        "# Generate random data:\n",
        "import random\n",
        "randomlist = random.sample(range(0,40), 10)\n",
        "print(randomlist)"
      ],
      "metadata": {
        "id": "ILkhrdMMTu9m",
        "colab": {
          "base_uri": "https://localhost:8080/"
        },
        "outputId": "d305ba58-4fdd-456f-b758-ac76c73d1936"
      },
      "execution_count": 6,
      "outputs": [
        {
          "output_type": "stream",
          "name": "stdout",
          "text": [
            "[1, 25, 2, 19, 17, 32, 29, 21, 23, 13]\n"
          ]
        }
      ]
    },
    {
      "cell_type": "code",
      "source": [
        "# Create RDD:\n",
        "rdd1 = sc.parallelize(randomlist, 4)"
      ],
      "metadata": {
        "id": "1n39Bv24XHjt"
      },
      "execution_count": 7,
      "outputs": []
    },
    {
      "cell_type": "code",
      "source": [
        "rdd1.getNumPartitions()"
      ],
      "metadata": {
        "colab": {
          "base_uri": "https://localhost:8080/"
        },
        "id": "zL0o502gE0dY",
        "outputId": "08d23954-db4a-4faf-d6df-e897a752ee4c"
      },
      "execution_count": 8,
      "outputs": [
        {
          "output_type": "execute_result",
          "data": {
            "text/plain": [
              "4"
            ]
          },
          "metadata": {},
          "execution_count": 8
        }
      ]
    },
    {
      "cell_type": "code",
      "source": [
        "# Data distribution in partitions:\n",
        "rdd1.glom().collect()"
      ],
      "metadata": {
        "id": "b8aOYoMLX7Er",
        "colab": {
          "base_uri": "https://localhost:8080/"
        },
        "outputId": "b95afeb5-c679-498f-e537-0f52034e8238"
      },
      "execution_count": 9,
      "outputs": [
        {
          "output_type": "execute_result",
          "data": {
            "text/plain": [
              "[[1, 25], [2, 19], [17, 32], [29, 21, 23, 13]]"
            ]
          },
          "metadata": {},
          "execution_count": 9
        }
      ]
    },
    {
      "cell_type": "code",
      "source": [
        "# Print last partition\n",
        "rdd1.glom().collect()[3]"
      ],
      "metadata": {
        "id": "9EffFOyTYC18",
        "colab": {
          "base_uri": "https://localhost:8080/"
        },
        "outputId": "f1bf16b4-e830-41e6-eb05-b99783609c37"
      },
      "execution_count": 10,
      "outputs": [
        {
          "output_type": "execute_result",
          "data": {
            "text/plain": [
              "[29, 21, 23, 13]"
            ]
          },
          "metadata": {},
          "execution_count": 10
        }
      ]
    },
    {
      "cell_type": "code",
      "source": [
        "# count():\n",
        "rdd1.count()"
      ],
      "metadata": {
        "id": "9TL1kG-Ceo6E",
        "colab": {
          "base_uri": "https://localhost:8080/"
        },
        "outputId": "a0bf9bf5-f9eb-4501-d26a-eeb5feb9766b"
      },
      "execution_count": 11,
      "outputs": [
        {
          "output_type": "execute_result",
          "data": {
            "text/plain": [
              "10"
            ]
          },
          "metadata": {},
          "execution_count": 11
        }
      ]
    },
    {
      "cell_type": "code",
      "source": [
        "# first():\n",
        "rdd1.first()"
      ],
      "metadata": {
        "id": "gZmfAahXeryY",
        "colab": {
          "base_uri": "https://localhost:8080/"
        },
        "outputId": "131d11bd-17c8-4c28-87b4-163d660c1648"
      },
      "execution_count": 12,
      "outputs": [
        {
          "output_type": "execute_result",
          "data": {
            "text/plain": [
              "1"
            ]
          },
          "metadata": {},
          "execution_count": 12
        }
      ]
    },
    {
      "cell_type": "code",
      "source": [
        "# top():\n",
        "rdd1.top(5)"
      ],
      "metadata": {
        "id": "OnuGXcKLb8qa",
        "colab": {
          "base_uri": "https://localhost:8080/"
        },
        "outputId": "1ad06143-b06e-4421-e16c-1eb39b2d30b0"
      },
      "execution_count": 13,
      "outputs": [
        {
          "output_type": "execute_result",
          "data": {
            "text/plain": [
              "[32, 29, 25, 23, 21]"
            ]
          },
          "metadata": {},
          "execution_count": 13
        }
      ]
    },
    {
      "cell_type": "code",
      "source": [
        "# distinct():\n",
        "rdd1.distinct().collect()"
      ],
      "metadata": {
        "id": "3xOj1w6teN_a",
        "colab": {
          "base_uri": "https://localhost:8080/"
        },
        "outputId": "7d0e5619-0f2f-416f-c327-7ed8ab2f82f7"
      },
      "execution_count": 14,
      "outputs": [
        {
          "output_type": "execute_result",
          "data": {
            "text/plain": [
              "[32, 1, 25, 17, 29, 21, 13, 2, 19, 23]"
            ]
          },
          "metadata": {},
          "execution_count": 14
        }
      ]
    },
    {
      "cell_type": "code",
      "source": [
        "# map():\n",
        "rdd1.map(lambda x: x*2).collect()"
      ],
      "metadata": {
        "id": "qE0CJuhlZz1M",
        "colab": {
          "base_uri": "https://localhost:8080/"
        },
        "outputId": "928387a3-696d-4fbb-fa1d-e4b1978dcdb6"
      },
      "execution_count": 15,
      "outputs": [
        {
          "output_type": "execute_result",
          "data": {
            "text/plain": [
              "[2, 50, 4, 38, 34, 64, 58, 42, 46, 26]"
            ]
          },
          "metadata": {},
          "execution_count": 15
        }
      ]
    },
    {
      "cell_type": "code",
      "source": [
        "# filter(): \n",
        "rdd1.filter(lambda x: x%2==0).collect()"
      ],
      "metadata": {
        "id": "r804677wamjY",
        "colab": {
          "base_uri": "https://localhost:8080/"
        },
        "outputId": "523a8be7-863a-4943-c29a-3fe55f5f032c"
      },
      "execution_count": 16,
      "outputs": [
        {
          "output_type": "execute_result",
          "data": {
            "text/plain": [
              "[2, 32]"
            ]
          },
          "metadata": {},
          "execution_count": 16
        }
      ]
    },
    {
      "cell_type": "code",
      "source": [
        "# flatMap():\n",
        "rdd_flatmap = rdd1.flatMap(lambda x: [x+2, x+5])\n",
        "print(rdd_flatmap.collect())\n",
        "print(rdd_flatmap.reduce(lambda x,y: x+y))"
      ],
      "metadata": {
        "id": "9f--VFpvaqRj",
        "colab": {
          "base_uri": "https://localhost:8080/"
        },
        "outputId": "7b7fe578-a4e9-454e-9259-d871139d3831"
      },
      "execution_count": 17,
      "outputs": [
        {
          "output_type": "stream",
          "name": "stdout",
          "text": [
            "[3, 6, 27, 30, 4, 7, 21, 24, 19, 22, 34, 37, 31, 34, 23, 26, 25, 28, 15, 18]\n",
            "434\n"
          ]
        }
      ]
    },
    {
      "cell_type": "code",
      "source": [
        "# Descriptive statistics:\n",
        "print([\n",
        "       rdd1.max(), rdd1.min(), rdd1.mean(), rdd1.sum(), round(rdd1.stdev(),2), rdd1.top(2)\n",
        "])"
      ],
      "metadata": {
        "id": "1LSPGU35gk-q",
        "colab": {
          "base_uri": "https://localhost:8080/"
        },
        "outputId": "df391509-8d6e-4c8d-c168-3c3b1e44b93e"
      },
      "execution_count": 18,
      "outputs": [
        {
          "output_type": "stream",
          "name": "stdout",
          "text": [
            "[32, 1, 18.2, 182, 9.86, [32, 29]]\n"
          ]
        }
      ]
    },
    {
      "cell_type": "code",
      "source": [
        "# mapPartitions():\n",
        "def my_func(partition):\n",
        "    sum=0\n",
        "    for item in partition:\n",
        "        sum=+item\n",
        "    yield sum\n",
        "\n",
        "rdd_mapPartition = rdd1.mapPartitions(my_func)\n",
        "rdd_mapPartition.collect()"
      ],
      "metadata": {
        "id": "PEKBDcW1bvZe",
        "colab": {
          "base_uri": "https://localhost:8080/"
        },
        "outputId": "387f2ec7-742e-4428-e30b-40dec6e50f3e"
      },
      "execution_count": 19,
      "outputs": [
        {
          "output_type": "execute_result",
          "data": {
            "text/plain": [
              "[25, 19, 32, 13]"
            ]
          },
          "metadata": {},
          "execution_count": 19
        }
      ]
    },
    {
      "cell_type": "markdown",
      "source": [
        "# **Part 2: Advanced RDD Transformations and Actions**"
      ],
      "metadata": {
        "id": "EGi2zdncaoHo"
      }
    },
    {
      "cell_type": "code",
      "source": [
        "# union():\n",
        "\n",
        "print(rdd1.collect())\n",
        "rdd2 = sc.parallelize([1,14,20,20,28,10,13], 2)\n",
        "print(rdd2.collect())\n",
        "\n",
        "rdd_union = rdd1.union(rdd2)\n",
        "print(rdd_union.getNumPartitions())\n",
        "print(rdd_union.collect())\n",
        "print(rdd_union.glom().collect())"
      ],
      "metadata": {
        "id": "bIKu4KMrdt1k",
        "colab": {
          "base_uri": "https://localhost:8080/"
        },
        "outputId": "006e9fa4-c439-4c78-e411-8bf5abf72b5b"
      },
      "execution_count": 22,
      "outputs": [
        {
          "output_type": "stream",
          "name": "stdout",
          "text": [
            "[1, 25, 2, 19, 17, 32, 29, 21, 23, 13]\n",
            "[1, 14, 20, 20, 28, 10, 13]\n",
            "6\n",
            "[1, 25, 2, 19, 17, 32, 29, 21, 23, 13, 1, 14, 20, 20, 28, 10, 13]\n",
            "[[1, 25], [2, 19], [17, 32], [29, 21, 23, 13], [1, 14, 20], [20, 28, 10, 13]]\n"
          ]
        }
      ]
    },
    {
      "cell_type": "code",
      "source": [
        "# intersection():\n",
        "rdd_intersection = rdd1.intersection(rdd2)\n",
        "print(rdd_intersection.getNumPartitions())\n",
        "print(rdd_intersection.collect())\n",
        "\n",
        "rdd_intersection.glom().collect()"
      ],
      "metadata": {
        "id": "DmQ3bNUkeMVk",
        "colab": {
          "base_uri": "https://localhost:8080/"
        },
        "outputId": "2e6bda3a-9c02-49e9-c954-cbe73c5dd0da"
      },
      "execution_count": 23,
      "outputs": [
        {
          "output_type": "stream",
          "name": "stdout",
          "text": [
            "6\n",
            "[1, 13]\n"
          ]
        },
        {
          "output_type": "execute_result",
          "data": {
            "text/plain": [
              "[[], [1, 13], [], [], [], []]"
            ]
          },
          "metadata": {},
          "execution_count": 23
        }
      ]
    },
    {
      "cell_type": "code",
      "source": [
        "# Find empty partitions\n",
        "counter=0\n",
        "for item in rdd_intersection.glom().collect():\n",
        "    if len(item) == 0:\n",
        "        counter=+1\n",
        "print(counter)"
      ],
      "metadata": {
        "id": "E2g0ep9M8GX8",
        "colab": {
          "base_uri": "https://localhost:8080/"
        },
        "outputId": "b5d687aa-b131-4456-b041-073991e40704"
      },
      "execution_count": 24,
      "outputs": [
        {
          "output_type": "stream",
          "name": "stdout",
          "text": [
            "1\n"
          ]
        }
      ]
    },
    {
      "cell_type": "code",
      "source": [
        "# coalesce(numPartitions):\n",
        "rdd_intersection.coalesce(1).glom().collect()"
      ],
      "metadata": {
        "id": "-AopsaZqehmA",
        "colab": {
          "base_uri": "https://localhost:8080/"
        },
        "outputId": "f98fee7b-b663-4f6a-e705-445745d3c423"
      },
      "execution_count": 25,
      "outputs": [
        {
          "output_type": "execute_result",
          "data": {
            "text/plain": [
              "[[1, 13]]"
            ]
          },
          "metadata": {},
          "execution_count": 25
        }
      ]
    },
    {
      "cell_type": "code",
      "source": [
        "# takeSample(withReplacement, num, [seed])\n",
        "rdd1.takeSample(False, 5)"
      ],
      "metadata": {
        "id": "OFjDbelJeuoq",
        "colab": {
          "base_uri": "https://localhost:8080/"
        },
        "outputId": "9565dbba-5c6e-42f2-d6ef-80a3a069b3aa"
      },
      "execution_count": 26,
      "outputs": [
        {
          "output_type": "execute_result",
          "data": {
            "text/plain": [
              "[21, 13, 29, 1, 17]"
            ]
          },
          "metadata": {},
          "execution_count": 26
        }
      ]
    },
    {
      "cell_type": "code",
      "source": [
        "# takeOrdered(n, [ordering])\n",
        "print(rdd1.collect())\n",
        "print(rdd1.takeOrdered(5))\n",
        "print(rdd1.takeOrdered(5, key=lambda x: -x))"
      ],
      "metadata": {
        "id": "_K41G_W9ezhS",
        "colab": {
          "base_uri": "https://localhost:8080/"
        },
        "outputId": "c556cf75-fd14-447f-8921-45c463940aaa"
      },
      "execution_count": 27,
      "outputs": [
        {
          "output_type": "stream",
          "name": "stdout",
          "text": [
            "[1, 25, 2, 19, 17, 32, 29, 21, 23, 13]\n",
            "[1, 2, 13, 17, 19]\n",
            "[32, 29, 25, 23, 21]\n"
          ]
        }
      ]
    },
    {
      "cell_type": "code",
      "source": [
        "# reduce():\n",
        "rdd1.reduce(lambda x,y: x+y)"
      ],
      "metadata": {
        "id": "sgBhaTdAeldY",
        "colab": {
          "base_uri": "https://localhost:8080/"
        },
        "outputId": "23f5352e-fc05-4530-cbe5-a208d0f9d6a0"
      },
      "execution_count": 28,
      "outputs": [
        {
          "output_type": "execute_result",
          "data": {
            "text/plain": [
              "182"
            ]
          },
          "metadata": {},
          "execution_count": 28
        }
      ]
    },
    {
      "cell_type": "code",
      "source": [
        "# reduceByKey():\n",
        "rdd_RBK = sc.parallelize([\n",
        "                          (1,4), (7,10), (5,7), (1,12), (7,12), (7,1), (9,1), (7,4)\n",
        "], 2)\n",
        "print(rdd_RBK.collect())\n",
        "\n",
        "print(rdd_RBK.reduceByKey(lambda x,y: x+y).collect())\n",
        "\n",
        "import pandas as pd\n",
        "Counter = pd.DataFrame(\n",
        "    {'Key': rdd_RBK.keys().collect(),\n",
        "     'Values':rdd_RBK.values().collect()}\n",
        ")\n",
        "\n",
        "Counter"
      ],
      "metadata": {
        "id": "aj8-Q40_eXT2",
        "colab": {
          "base_uri": "https://localhost:8080/",
          "height": 335
        },
        "outputId": "f7c8251d-ecbd-448a-84f8-bd2209b70a37"
      },
      "execution_count": 30,
      "outputs": [
        {
          "output_type": "stream",
          "name": "stdout",
          "text": [
            "[(1, 4), (7, 10), (5, 7), (1, 12), (7, 12), (7, 1), (9, 1), (7, 4)]\n",
            "[(1, 16), (7, 27), (5, 7), (9, 1)]\n"
          ]
        },
        {
          "output_type": "execute_result",
          "data": {
            "text/plain": [
              "   Key  Values\n",
              "0    1       4\n",
              "1    7      10\n",
              "2    5       7\n",
              "3    1      12\n",
              "4    7      12\n",
              "5    7       1\n",
              "6    9       1\n",
              "7    7       4"
            ],
            "text/html": [
              "\n",
              "  <div id=\"df-5547cc2e-fd85-4048-9d28-56861299693c\">\n",
              "    <div class=\"colab-df-container\">\n",
              "      <div>\n",
              "<style scoped>\n",
              "    .dataframe tbody tr th:only-of-type {\n",
              "        vertical-align: middle;\n",
              "    }\n",
              "\n",
              "    .dataframe tbody tr th {\n",
              "        vertical-align: top;\n",
              "    }\n",
              "\n",
              "    .dataframe thead th {\n",
              "        text-align: right;\n",
              "    }\n",
              "</style>\n",
              "<table border=\"1\" class=\"dataframe\">\n",
              "  <thead>\n",
              "    <tr style=\"text-align: right;\">\n",
              "      <th></th>\n",
              "      <th>Key</th>\n",
              "      <th>Values</th>\n",
              "    </tr>\n",
              "  </thead>\n",
              "  <tbody>\n",
              "    <tr>\n",
              "      <th>0</th>\n",
              "      <td>1</td>\n",
              "      <td>4</td>\n",
              "    </tr>\n",
              "    <tr>\n",
              "      <th>1</th>\n",
              "      <td>7</td>\n",
              "      <td>10</td>\n",
              "    </tr>\n",
              "    <tr>\n",
              "      <th>2</th>\n",
              "      <td>5</td>\n",
              "      <td>7</td>\n",
              "    </tr>\n",
              "    <tr>\n",
              "      <th>3</th>\n",
              "      <td>1</td>\n",
              "      <td>12</td>\n",
              "    </tr>\n",
              "    <tr>\n",
              "      <th>4</th>\n",
              "      <td>7</td>\n",
              "      <td>12</td>\n",
              "    </tr>\n",
              "    <tr>\n",
              "      <th>5</th>\n",
              "      <td>7</td>\n",
              "      <td>1</td>\n",
              "    </tr>\n",
              "    <tr>\n",
              "      <th>6</th>\n",
              "      <td>9</td>\n",
              "      <td>1</td>\n",
              "    </tr>\n",
              "    <tr>\n",
              "      <th>7</th>\n",
              "      <td>7</td>\n",
              "      <td>4</td>\n",
              "    </tr>\n",
              "  </tbody>\n",
              "</table>\n",
              "</div>\n",
              "      <button class=\"colab-df-convert\" onclick=\"convertToInteractive('df-5547cc2e-fd85-4048-9d28-56861299693c')\"\n",
              "              title=\"Convert this dataframe to an interactive table.\"\n",
              "              style=\"display:none;\">\n",
              "        \n",
              "  <svg xmlns=\"http://www.w3.org/2000/svg\" height=\"24px\"viewBox=\"0 0 24 24\"\n",
              "       width=\"24px\">\n",
              "    <path d=\"M0 0h24v24H0V0z\" fill=\"none\"/>\n",
              "    <path d=\"M18.56 5.44l.94 2.06.94-2.06 2.06-.94-2.06-.94-.94-2.06-.94 2.06-2.06.94zm-11 1L8.5 8.5l.94-2.06 2.06-.94-2.06-.94L8.5 2.5l-.94 2.06-2.06.94zm10 10l.94 2.06.94-2.06 2.06-.94-2.06-.94-.94-2.06-.94 2.06-2.06.94z\"/><path d=\"M17.41 7.96l-1.37-1.37c-.4-.4-.92-.59-1.43-.59-.52 0-1.04.2-1.43.59L10.3 9.45l-7.72 7.72c-.78.78-.78 2.05 0 2.83L4 21.41c.39.39.9.59 1.41.59.51 0 1.02-.2 1.41-.59l7.78-7.78 2.81-2.81c.8-.78.8-2.07 0-2.86zM5.41 20L4 18.59l7.72-7.72 1.47 1.35L5.41 20z\"/>\n",
              "  </svg>\n",
              "      </button>\n",
              "      \n",
              "  <style>\n",
              "    .colab-df-container {\n",
              "      display:flex;\n",
              "      flex-wrap:wrap;\n",
              "      gap: 12px;\n",
              "    }\n",
              "\n",
              "    .colab-df-convert {\n",
              "      background-color: #E8F0FE;\n",
              "      border: none;\n",
              "      border-radius: 50%;\n",
              "      cursor: pointer;\n",
              "      display: none;\n",
              "      fill: #1967D2;\n",
              "      height: 32px;\n",
              "      padding: 0 0 0 0;\n",
              "      width: 32px;\n",
              "    }\n",
              "\n",
              "    .colab-df-convert:hover {\n",
              "      background-color: #E2EBFA;\n",
              "      box-shadow: 0px 1px 2px rgba(60, 64, 67, 0.3), 0px 1px 3px 1px rgba(60, 64, 67, 0.15);\n",
              "      fill: #174EA6;\n",
              "    }\n",
              "\n",
              "    [theme=dark] .colab-df-convert {\n",
              "      background-color: #3B4455;\n",
              "      fill: #D2E3FC;\n",
              "    }\n",
              "\n",
              "    [theme=dark] .colab-df-convert:hover {\n",
              "      background-color: #434B5C;\n",
              "      box-shadow: 0px 1px 3px 1px rgba(0, 0, 0, 0.15);\n",
              "      filter: drop-shadow(0px 1px 2px rgba(0, 0, 0, 0.3));\n",
              "      fill: #FFFFFF;\n",
              "    }\n",
              "  </style>\n",
              "\n",
              "      <script>\n",
              "        const buttonEl =\n",
              "          document.querySelector('#df-5547cc2e-fd85-4048-9d28-56861299693c button.colab-df-convert');\n",
              "        buttonEl.style.display =\n",
              "          google.colab.kernel.accessAllowed ? 'block' : 'none';\n",
              "\n",
              "        async function convertToInteractive(key) {\n",
              "          const element = document.querySelector('#df-5547cc2e-fd85-4048-9d28-56861299693c');\n",
              "          const dataTable =\n",
              "            await google.colab.kernel.invokeFunction('convertToInteractive',\n",
              "                                                     [key], {});\n",
              "          if (!dataTable) return;\n",
              "\n",
              "          const docLinkHtml = 'Like what you see? Visit the ' +\n",
              "            '<a target=\"_blank\" href=https://colab.research.google.com/notebooks/data_table.ipynb>data table notebook</a>'\n",
              "            + ' to learn more about interactive tables.';\n",
              "          element.innerHTML = '';\n",
              "          dataTable['output_type'] = 'display_data';\n",
              "          await google.colab.output.renderOutput(dataTable, element);\n",
              "          const docLink = document.createElement('div');\n",
              "          docLink.innerHTML = docLinkHtml;\n",
              "          element.appendChild(docLink);\n",
              "        }\n",
              "      </script>\n",
              "    </div>\n",
              "  </div>\n",
              "  "
            ]
          },
          "metadata": {},
          "execution_count": 30
        }
      ]
    },
    {
      "cell_type": "code",
      "source": [
        "# sortByKey():\n",
        "rdd_RBK.reduceByKey(lambda x,y: x+y).sortByKey().collect()"
      ],
      "metadata": {
        "id": "Ii8M3qNMeaHC",
        "colab": {
          "base_uri": "https://localhost:8080/"
        },
        "outputId": "d44481c1-8e02-42a9-f831-79e3dc2b4653"
      },
      "execution_count": 31,
      "outputs": [
        {
          "output_type": "execute_result",
          "data": {
            "text/plain": [
              "[(1, 16), (5, 7), (7, 27), (9, 1)]"
            ]
          },
          "metadata": {},
          "execution_count": 31
        }
      ]
    },
    {
      "cell_type": "code",
      "source": [
        "# countByKey()\n",
        "print(rdd_RBK.countByKey())\n",
        "print(rdd_RBK.countByKey().items())\n",
        "print(sorted(rdd_RBK.countByKey()))\n",
        "print(sorted(rdd_RBK.countByKey().items()))"
      ],
      "metadata": {
        "id": "2-WYDKd2e0qf",
        "colab": {
          "base_uri": "https://localhost:8080/"
        },
        "outputId": "fec54f73-c461-4150-a2cc-de46926a6d22"
      },
      "execution_count": 33,
      "outputs": [
        {
          "output_type": "stream",
          "name": "stdout",
          "text": [
            "defaultdict(<class 'int'>, {1: 2, 7: 4, 5: 1, 9: 1})\n",
            "dict_items([(1, 2), (7, 4), (5, 1), (9, 1)])\n",
            "[1, 5, 7, 9]\n",
            "[(1, 2), (5, 1), (7, 4), (9, 1)]\n"
          ]
        }
      ]
    },
    {
      "cell_type": "code",
      "source": [
        "# groupByKey():\n",
        "rdd_group = rdd_RBK.groupByKey()\n",
        "print(rdd_group.getNumPartitions())\n",
        "\n",
        "print(rdd_group.collect())\n",
        "\n",
        "for item in rdd_group.collect():\n",
        "    print(item[0], [value for value in item[1]])"
      ],
      "metadata": {
        "id": "bihcXC8DeUEv",
        "colab": {
          "base_uri": "https://localhost:8080/"
        },
        "outputId": "342b6312-1615-436a-e892-a4497f4f4380"
      },
      "execution_count": 36,
      "outputs": [
        {
          "output_type": "stream",
          "name": "stdout",
          "text": [
            "2\n",
            "[(1, <pyspark.resultiterable.ResultIterable object at 0x7f4179be0150>), (7, <pyspark.resultiterable.ResultIterable object at 0x7f4179be0e10>), (5, <pyspark.resultiterable.ResultIterable object at 0x7f4179be0390>), (9, <pyspark.resultiterable.ResultIterable object at 0x7f4179be0cd0>)]\n",
            "1 [4, 12]\n",
            "7 [10, 12, 1, 4]\n",
            "5 [7]\n",
            "9 [1]\n"
          ]
        }
      ]
    },
    {
      "cell_type": "code",
      "source": [
        "# lookup(key):\n",
        "rdd_RBK.lookup(7)"
      ],
      "metadata": {
        "id": "5NzYUXEJhDM9",
        "colab": {
          "base_uri": "https://localhost:8080/"
        },
        "outputId": "c8dddca4-fdb8-474a-a93d-bac9bac2b164"
      },
      "execution_count": 37,
      "outputs": [
        {
          "output_type": "execute_result",
          "data": {
            "text/plain": [
              "[10, 12, 1, 4]"
            ]
          },
          "metadata": {},
          "execution_count": 37
        }
      ]
    },
    {
      "cell_type": "code",
      "source": [
        "# cache:\n",
        "# By default, each transformed RDD may be recomputed each time you run an action on it.\n",
        "# However, you may also persist an RDD in memory using the persist (or cache) method,\n",
        "# in which case Spark will keep the elements around on the cluster for much faster access the next time you query it.\n",
        "rdd_RBK.persist()"
      ],
      "metadata": {
        "id": "g9ThlLGO6z7u",
        "colab": {
          "base_uri": "https://localhost:8080/"
        },
        "outputId": "8f25b542-d70c-499a-e622-e36d763edc0e"
      },
      "execution_count": 38,
      "outputs": [
        {
          "output_type": "execute_result",
          "data": {
            "text/plain": [
              "ParallelCollectionRDD[56] at readRDDFromFile at PythonRDD.scala:274"
            ]
          },
          "metadata": {},
          "execution_count": 38
        }
      ]
    },
    {
      "cell_type": "code",
      "source": [
        "# Persistence (https://spark.apache.org/docs/latest/rdd-programming-guide.html#rdd-persistence)\n",
        "from pyspark import StorageLevel\n",
        "rdd1.persist(StorageLevel.MEMORY_AND_DISK).collect()"
      ],
      "metadata": {
        "id": "5zYpm9hpiqPc",
        "colab": {
          "base_uri": "https://localhost:8080/"
        },
        "outputId": "a06a4d86-9423-4a0a-e27d-1b37b7eac427"
      },
      "execution_count": 40,
      "outputs": [
        {
          "output_type": "execute_result",
          "data": {
            "text/plain": [
              "[1, 25, 2, 19, 17, 32, 29, 21, 23, 13]"
            ]
          },
          "metadata": {},
          "execution_count": 40
        }
      ]
    },
    {
      "cell_type": "code",
      "source": [
        ""
      ],
      "metadata": {
        "id": "AK--sRJ-UcxK"
      },
      "execution_count": null,
      "outputs": []
    }
  ]
}